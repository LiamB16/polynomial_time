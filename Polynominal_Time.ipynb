{
 "cells": [
  {
   "cell_type": "markdown",
   "metadata": {},
   "source": [
    "# Polynominal Time"
   ]
  },
  {
   "cell_type": "markdown",
   "metadata": {},
   "source": [
    "This is a notebook for Theory of Algorithms project 2023."
   ]
  },
  {
   "cell_type": "markdown",
   "metadata": {},
   "source": [
    "# Sets"
   ]
  },
  {
   "cell_type": "markdown",
   "metadata": {},
   "source": [
    "A set is a collection of objects, usually denoted using curly braces. For example, the set A below contains the three objects 1, 2, and 3. We call these objects elements of the set."
   ]
  },
  {
   "cell_type": "code",
   "execution_count": 2,
   "metadata": {},
   "outputs": [],
   "source": [
    "A = {1, 2, 3}\n"
   ]
  },
  {
   "cell_type": "markdown",
   "metadata": {},
   "source": [
    "We define the union of sets S and T, denoted S ∪ T, as the set of\n",
    "all the elements in S or T. Likewise, the intersection S ∩ T means the\n",
    "set of all the elements in both S and T. Finally, the difference S \\ T\n",
    "means the set of all the elements in S but not in T."
   ]
  },
  {
   "cell_type": "markdown",
   "metadata": {},
   "source": [
    "In Python, we use different symbols for these operators"
   ]
  },
  {
   "cell_type": "code",
   "execution_count": 3,
   "metadata": {},
   "outputs": [
    {
     "data": {
      "text/plain": [
       "{4, 5}"
      ]
     },
     "execution_count": 3,
     "metadata": {},
     "output_type": "execute_result"
    }
   ],
   "source": [
    "S = {1, 2, 3}\n",
    "T = {3, 4, 5}\n",
    "S | T # Union: {1, 2, 3, 4, 5}\n",
    "S & T # Intersection: {3}\n",
    "S - T # Difference: {1, 2}\n",
    "T - S # Different difference: {4, 5}\n"
   ]
  },
  {
   "cell_type": "code",
   "execution_count": null,
   "metadata": {},
   "outputs": [],
   "source": []
  },
  {
   "cell_type": "markdown",
   "metadata": {},
   "source": [
    "# Formal Language"
   ]
  },
  {
   "cell_type": "markdown",
   "metadata": {},
   "source": [
    "A language is a set of strings over an alphabet."
   ]
  },
  {
   "cell_type": "markdown",
   "metadata": {},
   "source": [
    "A language is then any subset of A. Note that A is a subset of\n",
    "itself, so it is a language, as is the empty set {}"
   ]
  },
  {
   "cell_type": "markdown",
   "metadata": {},
   "source": [
    "Languages are purely syntactical.Consider the set of prime numbers P = {2, 3, 5, 7, 11, 13, . .}. Here we have written the numbers using decimal notation. We can consider each number as a\n",
    "string written over the alphabet A = {0, 1, 2, 3, 4, 5, 6, 7, 9}. In that\n",
    "sense, the number thirteen is represented by the 2-tuple (1, 3)."
   ]
  }
 ],
 "metadata": {
  "kernelspec": {
   "display_name": "Python 3 (ipykernel)",
   "language": "python",
   "name": "python3"
  },
  "language_info": {
   "codemirror_mode": {
    "name": "ipython",
    "version": 3
   },
   "file_extension": ".py",
   "mimetype": "text/x-python",
   "name": "python",
   "nbconvert_exporter": "python",
   "pygments_lexer": "ipython3",
   "version": "3.10.10"
  },
  "vscode": {
   "interpreter": {
    "hash": "9b92e861d755fa7b68a09681c1caccb85e4de9e847177a00720359410907c5ae"
   }
  }
 },
 "nbformat": 4,
 "nbformat_minor": 2
}
